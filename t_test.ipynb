{
  "cells": [
    {
      "cell_type": "markdown",
      "metadata": {
        "id": "view-in-github",
        "colab_type": "text"
      },
      "source": [
        "<a href=\"https://colab.research.google.com/github/FatemehAbediK/EDA/blob/main/t_test.ipynb\" target=\"_parent\"><img src=\"https://colab.research.google.com/assets/colab-badge.svg\" alt=\"Open In Colab\"/></a>"
      ]
    },
    {
      "cell_type": "code",
      "execution_count": null,
      "metadata": {
        "id": "Xn976l45n19x"
      },
      "outputs": [],
      "source": []
    },
    {
      "cell_type": "code",
      "execution_count": null,
      "metadata": {
        "id": "Axm2yMP0Phbw"
      },
      "outputs": [],
      "source": [
        "%matplotlib inline\n",
        "import pandas as pd\n",
        "import matplotlib.pyplot as plt\n",
        "import numpy as np\n",
        "import scipy.stats as stats\n",
        "import math"
      ]
    },
    {
      "cell_type": "code",
      "execution_count": null,
      "metadata": {
        "colab": {
          "base_uri": "https://localhost:8080/"
        },
        "id": "uEIDyvcVPhZY",
        "outputId": "ac5040f1-272a-4ee7-a7f5-fb01f223775e"
      },
      "outputs": [
        {
          "name": "stdout",
          "output_type": "stream",
          "text": [
            "43.000112\n",
            "39.26\n"
          ]
        }
      ],
      "source": [
        "np.random.seed(6)\n",
        "\n",
        "population_ages_1=stats.poisson.rvs(loc=18, mu=35, size=150000)\n",
        "population_ages_2=stats.poisson.rvs(loc=18, mu=10, size=100000)\n",
        "population_ages=np.concatenate((population_ages_1, population_ages_2))\n",
        "\n",
        "minnesota_ages_1=stats.poisson.rvs(loc=18, mu=30, size=30)\n",
        "minnesota_ages_2=stats.poisson.rvs(loc=18, mu=10, size=20)\n",
        "minnesota_ages=np.concatenate((minnesota_ages_1, minnesota_ages_2))\n",
        "\n",
        "print(population_ages.mean())\n",
        "print(minnesota_ages.mean())\n"
      ]
    },
    {
      "cell_type": "code",
      "execution_count": null,
      "metadata": {
        "colab": {
          "base_uri": "https://localhost:8080/"
        },
        "id": "IFRu-xV4PhXQ",
        "outputId": "1c48666b-0164-4ed0-881c-ac6fd4de5847"
      },
      "outputs": [
        {
          "name": "stdout",
          "output_type": "stream",
          "text": [
            "-2.5742714883655027 0.013118685425061678\n"
          ]
        }
      ],
      "source": [
        "#compare means----t-test\n",
        "\n",
        "t,p = stats.ttest_1samp(a=minnesota_ages, popmean=population_ages.mean())\n",
        "print(t,p)"
      ]
    },
    {
      "cell_type": "code",
      "execution_count": null,
      "metadata": {
        "colab": {
          "base_uri": "https://localhost:8080/"
        },
        "id": "Bf2ksf87PhSQ",
        "outputId": "b72b135c-9d08-4bc7-840e-3475c89d586e"
      },
      "outputs": [
        {
          "data": {
            "text/plain": [
              "TtestResult(statistic=-2.5742714883655027, pvalue=0.013118685425061678, df=49)"
            ]
          },
          "execution_count": 4,
          "metadata": {},
          "output_type": "execute_result"
        }
      ],
      "source": [
        "stats.ttest_1samp(a=minnesota_ages, popmean=population_ages.mean())"
      ]
    },
    {
      "cell_type": "code",
      "execution_count": null,
      "metadata": {
        "colab": {
          "base_uri": "https://localhost:8080/"
        },
        "id": "ALEBGOTTPhPt",
        "outputId": "97f5f30d-5d97-404b-be2b-9d1046fc1345"
      },
      "outputs": [
        {
          "data": {
            "text/plain": [
              "-2.0095752344892093"
            ]
          },
          "execution_count": 9,
          "metadata": {},
          "output_type": "execute_result"
        }
      ],
      "source": [
        "#checking the t-value by the quantiles\n",
        "\n",
        "stats.t.ppf(q=0.025 , df=49)"
      ]
    },
    {
      "cell_type": "code",
      "execution_count": null,
      "metadata": {
        "colab": {
          "base_uri": "https://localhost:8080/"
        },
        "id": "HE6_Bc_mPhMt",
        "outputId": "7e187774-bc5c-4382-d41b-506239228909"
      },
      "outputs": [
        {
          "data": {
            "text/plain": [
              "2.009575234489209"
            ]
          },
          "execution_count": 10,
          "metadata": {},
          "output_type": "execute_result"
        }
      ],
      "source": [
        "stats.t.ppf(q=0.975 , df=49)"
      ]
    },
    {
      "cell_type": "code",
      "execution_count": null,
      "metadata": {
        "id": "fRYCnXZLTuVw"
      },
      "outputs": [],
      "source": [
        "# t value(-2.574) > q:0.025(-2.0097)......so null rejected and it's significant\n",
        "# pvalue(0.013) < 0.05 ...... so null rejected and it's significant"
      ]
    },
    {
      "cell_type": "code",
      "execution_count": null,
      "metadata": {
        "colab": {
          "background_save": true
        },
        "id": "jUbLuPRkUcNs"
      },
      "outputs": [],
      "source": [
        "sigma=minnesota_ages.std() / math.sqrt(50)       #st dev/sample size\n",
        "\n",
        "stats.t.interval(alpha=0.95,                     #confidence interval 95 %\n",
        "                 df=49,                          #degree of freedom\n",
        "                 loc=np.mean(minnesota_ages),    #sample mean\n",
        "                 scale=sigma)                    # scale= st dev estimate"
      ]
    },
    {
      "cell_type": "code",
      "execution_count": null,
      "metadata": {
        "id": "VIyJqfC7UcGM"
      },
      "outputs": [],
      "source": []
    },
    {
      "cell_type": "code",
      "execution_count": null,
      "metadata": {
        "id": "DpiKlErO_Ii2"
      },
      "outputs": [],
      "source": []
    },
    {
      "cell_type": "markdown",
      "source": [
        "#compare means----t-test(one-sample)-----1 sample with population"
      ],
      "metadata": {
        "id": "Xd0F4QfvV0mV"
      }
    },
    {
      "cell_type": "code",
      "source": [
        "#one sample t_test\n",
        "t,p = stats.ttest_1samp(a=minnesota_ages, popmean=population_ages.mean())\n",
        "print(t,p)"
      ],
      "metadata": {
        "colab": {
          "base_uri": "https://localhost:8080/"
        },
        "outputId": "1c48666b-0164-4ed0-881c-ac6fd4de5847",
        "id": "OtgsOthi_Ii5"
      },
      "execution_count": null,
      "outputs": [
        {
          "output_type": "stream",
          "name": "stdout",
          "text": [
            "-2.5742714883655027 0.013118685425061678\n"
          ]
        }
      ]
    },
    {
      "cell_type": "code",
      "source": [
        "stats.ttest_1samp(a=minnesota_ages, popmean=population_ages.mean())"
      ],
      "metadata": {
        "colab": {
          "base_uri": "https://localhost:8080/"
        },
        "outputId": "b72b135c-9d08-4bc7-840e-3475c89d586e",
        "id": "dG5FzV9R_Ii5"
      },
      "execution_count": null,
      "outputs": [
        {
          "output_type": "execute_result",
          "data": {
            "text/plain": [
              "TtestResult(statistic=-2.5742714883655027, pvalue=0.013118685425061678, df=49)"
            ]
          },
          "metadata": {},
          "execution_count": 4
        }
      ]
    },
    {
      "cell_type": "code",
      "source": [
        "#checking the t-value by the quantiles\n",
        "\n",
        "stats.t.ppf(q=0.025 , df=49)"
      ],
      "metadata": {
        "colab": {
          "base_uri": "https://localhost:8080/"
        },
        "outputId": "97f5f30d-5d97-404b-be2b-9d1046fc1345",
        "id": "VDAe9MLt_Ii6"
      },
      "execution_count": null,
      "outputs": [
        {
          "output_type": "execute_result",
          "data": {
            "text/plain": [
              "-2.0095752344892093"
            ]
          },
          "metadata": {},
          "execution_count": 9
        }
      ]
    },
    {
      "cell_type": "code",
      "source": [
        "stats.t.ppf(q=0.975 , df=49)"
      ],
      "metadata": {
        "colab": {
          "base_uri": "https://localhost:8080/"
        },
        "outputId": "7e187774-bc5c-4382-d41b-506239228909",
        "id": "5q1-BiMg_Ii6"
      },
      "execution_count": null,
      "outputs": [
        {
          "output_type": "execute_result",
          "data": {
            "text/plain": [
              "2.009575234489209"
            ]
          },
          "metadata": {},
          "execution_count": 10
        }
      ]
    },
    {
      "cell_type": "code",
      "source": [
        "# t value(-2.574) > q:0.025(-2.0097)......so null rejected and it's significant\n",
        "# pvalue(0.013) < 0.05 ...... so null rejected and it's significant"
      ],
      "metadata": {
        "id": "_gjVxBMZ_Ii7"
      },
      "execution_count": null,
      "outputs": []
    },
    {
      "cell_type": "code",
      "source": [
        "sigma=minnesota_ages.std() / math.sqrt(50)       #st dev/sample size\n",
        "\n",
        "stats.t.interval(confidence=0.95,                #confidence interval 95 %\n",
        "                 df=49,                          #degree of freedom\n",
        "                 loc=np.mean(minnesota_ages),    #sample mean\n",
        "                 scale=sigma)                    # scale= st dev estimate"
      ],
      "metadata": {
        "colab": {
          "base_uri": "https://localhost:8080/"
        },
        "outputId": "59abadc2-d3a2-4e2a-ce4c-1968dbab3771",
        "id": "qi-JmN8c_Ii7"
      },
      "execution_count": null,
      "outputs": [
        {
          "output_type": "execute_result",
          "data": {
            "text/plain": [
              "(36.369669080722176, 42.15033091927782)"
            ]
          },
          "metadata": {},
          "execution_count": 12
        }
      ]
    },
    {
      "cell_type": "code",
      "source": [
        "#42 < 43(population mean)....so it's not in it"
      ],
      "metadata": {
        "id": "OfxQrpFG_Ii8"
      },
      "execution_count": null,
      "outputs": []
    },
    {
      "cell_type": "markdown",
      "source": [
        "#compare means----t-test(two-sample)-----2 sample together"
      ],
      "metadata": {
        "id": "8cGxiUQwV3-M"
      }
    },
    {
      "cell_type": "code",
      "source": [
        "np.random.seed(12)\n",
        "\n",
        "wisconstin_ages_1=stats.poisson.rvs(loc=18, mu=33, size=30)\n",
        "wisconstin_ages_2=stats.poisson.rvs(loc=18, mu=13, size=20)\n",
        "wisconstin_ages=np.concatenate((wisconstin_ages_1, wisconstin_ages_2))\n",
        "\n",
        "print(wisconstin_ages.mean())\n",
        "print(minnesota_ages.mean())"
      ],
      "metadata": {
        "colab": {
          "base_uri": "https://localhost:8080/"
        },
        "id": "nUSE8DEgV7SA",
        "outputId": "38e0013d-46fd-47cc-9f69-0a0ac61c0106"
      },
      "execution_count": null,
      "outputs": [
        {
          "output_type": "stream",
          "name": "stdout",
          "text": [
            "42.8\n",
            "39.26\n"
          ]
        }
      ]
    },
    {
      "cell_type": "code",
      "source": [
        "#ind=independant sample t-test\n",
        "t,p = stats.ttest_ind(a=minnesota_ages,\n",
        "                      b=wisconstin_ages,\n",
        "                      equal_var=False)\n",
        "print(t,p)"
      ],
      "metadata": {
        "colab": {
          "base_uri": "https://localhost:8080/"
        },
        "id": "K_yyXESTWMYV",
        "outputId": "3bb5232a-9487-4466-eded-4e8179e9588d"
      },
      "execution_count": null,
      "outputs": [
        {
          "output_type": "stream",
          "name": "stdout",
          "text": [
            "-1.7083870793286842 0.09073104343957748\n"
          ]
        }
      ]
    },
    {
      "cell_type": "code",
      "source": [
        "stats.ttest_ind(a=minnesota_ages,\n",
        "                b=wisconstin_ages,\n",
        "                equal_var=False)    #The groups don't have equal variances!!!"
      ],
      "metadata": {
        "colab": {
          "base_uri": "https://localhost:8080/"
        },
        "id": "yJVBMBWLWoDg",
        "outputId": "0746a3fa-852f-4e6e-804f-73960922f0e0"
      },
      "execution_count": null,
      "outputs": [
        {
          "output_type": "execute_result",
          "data": {
            "text/plain": [
              "TtestResult(statistic=-1.7083870793286842, pvalue=0.09073104343957748, df=97.9724575497005)"
            ]
          },
          "metadata": {},
          "execution_count": 15
        }
      ]
    },
    {
      "cell_type": "code",
      "source": [],
      "metadata": {
        "id": "FOGDTplkWrJm"
      },
      "execution_count": null,
      "outputs": []
    },
    {
      "cell_type": "markdown",
      "source": [
        "#paired t-test-------one sample over time(before & after)"
      ],
      "metadata": {
        "id": "tVM8dlroXPsA"
      }
    },
    {
      "cell_type": "code",
      "source": [
        "np.random.seed(11)\n",
        "\n",
        "before=stats.norm.rvs(scale=30, loc=250, size=100)\n",
        "after=before + stats.norm.rvs(scale=5, loc=-1.25, size=100)\n",
        "\n",
        "weight_df=pd.DataFrame({\"weight_before\":before,\n",
        "                        \"weight_after\":after,\n",
        "                        \"weight_change\":after-before})\n",
        "\n",
        "weight_df.describe()"
      ],
      "metadata": {
        "colab": {
          "base_uri": "https://localhost:8080/",
          "height": 300
        },
        "id": "Cdz6pQeeXVX9",
        "outputId": "2a052915-9f44-4656-ecb7-13588acae995"
      },
      "execution_count": null,
      "outputs": [
        {
          "output_type": "execute_result",
          "data": {
            "text/plain": [
              "       weight_before  weight_after  weight_change\n",
              "count     100.000000    100.000000     100.000000\n",
              "mean      250.345546    249.115171      -1.230375\n",
              "std        28.132539     28.422183       4.783696\n",
              "min       170.400443    165.913930     -11.495286\n",
              "25%       230.421042    229.148236      -4.046211\n",
              "50%       250.830805    251.134089      -1.413463\n",
              "75%       270.637145    268.927258       1.738673\n",
              "max       314.700233    316.720357       9.759282"
            ],
            "text/html": [
              "\n",
              "  <div id=\"df-cf9f52bb-9596-41d1-a6d3-e3b0950d6102\" class=\"colab-df-container\">\n",
              "    <div>\n",
              "<style scoped>\n",
              "    .dataframe tbody tr th:only-of-type {\n",
              "        vertical-align: middle;\n",
              "    }\n",
              "\n",
              "    .dataframe tbody tr th {\n",
              "        vertical-align: top;\n",
              "    }\n",
              "\n",
              "    .dataframe thead th {\n",
              "        text-align: right;\n",
              "    }\n",
              "</style>\n",
              "<table border=\"1\" class=\"dataframe\">\n",
              "  <thead>\n",
              "    <tr style=\"text-align: right;\">\n",
              "      <th></th>\n",
              "      <th>weight_before</th>\n",
              "      <th>weight_after</th>\n",
              "      <th>weight_change</th>\n",
              "    </tr>\n",
              "  </thead>\n",
              "  <tbody>\n",
              "    <tr>\n",
              "      <th>count</th>\n",
              "      <td>100.000000</td>\n",
              "      <td>100.000000</td>\n",
              "      <td>100.000000</td>\n",
              "    </tr>\n",
              "    <tr>\n",
              "      <th>mean</th>\n",
              "      <td>250.345546</td>\n",
              "      <td>249.115171</td>\n",
              "      <td>-1.230375</td>\n",
              "    </tr>\n",
              "    <tr>\n",
              "      <th>std</th>\n",
              "      <td>28.132539</td>\n",
              "      <td>28.422183</td>\n",
              "      <td>4.783696</td>\n",
              "    </tr>\n",
              "    <tr>\n",
              "      <th>min</th>\n",
              "      <td>170.400443</td>\n",
              "      <td>165.913930</td>\n",
              "      <td>-11.495286</td>\n",
              "    </tr>\n",
              "    <tr>\n",
              "      <th>25%</th>\n",
              "      <td>230.421042</td>\n",
              "      <td>229.148236</td>\n",
              "      <td>-4.046211</td>\n",
              "    </tr>\n",
              "    <tr>\n",
              "      <th>50%</th>\n",
              "      <td>250.830805</td>\n",
              "      <td>251.134089</td>\n",
              "      <td>-1.413463</td>\n",
              "    </tr>\n",
              "    <tr>\n",
              "      <th>75%</th>\n",
              "      <td>270.637145</td>\n",
              "      <td>268.927258</td>\n",
              "      <td>1.738673</td>\n",
              "    </tr>\n",
              "    <tr>\n",
              "      <th>max</th>\n",
              "      <td>314.700233</td>\n",
              "      <td>316.720357</td>\n",
              "      <td>9.759282</td>\n",
              "    </tr>\n",
              "  </tbody>\n",
              "</table>\n",
              "</div>\n",
              "    <div class=\"colab-df-buttons\">\n",
              "\n",
              "  <div class=\"colab-df-container\">\n",
              "    <button class=\"colab-df-convert\" onclick=\"convertToInteractive('df-cf9f52bb-9596-41d1-a6d3-e3b0950d6102')\"\n",
              "            title=\"Convert this dataframe to an interactive table.\"\n",
              "            style=\"display:none;\">\n",
              "\n",
              "  <svg xmlns=\"http://www.w3.org/2000/svg\" height=\"24px\" viewBox=\"0 -960 960 960\">\n",
              "    <path d=\"M120-120v-720h720v720H120Zm60-500h600v-160H180v160Zm220 220h160v-160H400v160Zm0 220h160v-160H400v160ZM180-400h160v-160H180v160Zm440 0h160v-160H620v160ZM180-180h160v-160H180v160Zm440 0h160v-160H620v160Z\"/>\n",
              "  </svg>\n",
              "    </button>\n",
              "\n",
              "  <style>\n",
              "    .colab-df-container {\n",
              "      display:flex;\n",
              "      gap: 12px;\n",
              "    }\n",
              "\n",
              "    .colab-df-convert {\n",
              "      background-color: #E8F0FE;\n",
              "      border: none;\n",
              "      border-radius: 50%;\n",
              "      cursor: pointer;\n",
              "      display: none;\n",
              "      fill: #1967D2;\n",
              "      height: 32px;\n",
              "      padding: 0 0 0 0;\n",
              "      width: 32px;\n",
              "    }\n",
              "\n",
              "    .colab-df-convert:hover {\n",
              "      background-color: #E2EBFA;\n",
              "      box-shadow: 0px 1px 2px rgba(60, 64, 67, 0.3), 0px 1px 3px 1px rgba(60, 64, 67, 0.15);\n",
              "      fill: #174EA6;\n",
              "    }\n",
              "\n",
              "    .colab-df-buttons div {\n",
              "      margin-bottom: 4px;\n",
              "    }\n",
              "\n",
              "    [theme=dark] .colab-df-convert {\n",
              "      background-color: #3B4455;\n",
              "      fill: #D2E3FC;\n",
              "    }\n",
              "\n",
              "    [theme=dark] .colab-df-convert:hover {\n",
              "      background-color: #434B5C;\n",
              "      box-shadow: 0px 1px 3px 1px rgba(0, 0, 0, 0.15);\n",
              "      filter: drop-shadow(0px 1px 2px rgba(0, 0, 0, 0.3));\n",
              "      fill: #FFFFFF;\n",
              "    }\n",
              "  </style>\n",
              "\n",
              "    <script>\n",
              "      const buttonEl =\n",
              "        document.querySelector('#df-cf9f52bb-9596-41d1-a6d3-e3b0950d6102 button.colab-df-convert');\n",
              "      buttonEl.style.display =\n",
              "        google.colab.kernel.accessAllowed ? 'block' : 'none';\n",
              "\n",
              "      async function convertToInteractive(key) {\n",
              "        const element = document.querySelector('#df-cf9f52bb-9596-41d1-a6d3-e3b0950d6102');\n",
              "        const dataTable =\n",
              "          await google.colab.kernel.invokeFunction('convertToInteractive',\n",
              "                                                    [key], {});\n",
              "        if (!dataTable) return;\n",
              "\n",
              "        const docLinkHtml = 'Like what you see? Visit the ' +\n",
              "          '<a target=\"_blank\" href=https://colab.research.google.com/notebooks/data_table.ipynb>data table notebook</a>'\n",
              "          + ' to learn more about interactive tables.';\n",
              "        element.innerHTML = '';\n",
              "        dataTable['output_type'] = 'display_data';\n",
              "        await google.colab.output.renderOutput(dataTable, element);\n",
              "        const docLink = document.createElement('div');\n",
              "        docLink.innerHTML = docLinkHtml;\n",
              "        element.appendChild(docLink);\n",
              "      }\n",
              "    </script>\n",
              "  </div>\n",
              "\n",
              "\n",
              "<div id=\"df-bcef7bd2-f172-4fee-9fc2-917ce2e8d2bf\">\n",
              "  <button class=\"colab-df-quickchart\" onclick=\"quickchart('df-bcef7bd2-f172-4fee-9fc2-917ce2e8d2bf')\"\n",
              "            title=\"Suggest charts\"\n",
              "            style=\"display:none;\">\n",
              "\n",
              "<svg xmlns=\"http://www.w3.org/2000/svg\" height=\"24px\"viewBox=\"0 0 24 24\"\n",
              "     width=\"24px\">\n",
              "    <g>\n",
              "        <path d=\"M19 3H5c-1.1 0-2 .9-2 2v14c0 1.1.9 2 2 2h14c1.1 0 2-.9 2-2V5c0-1.1-.9-2-2-2zM9 17H7v-7h2v7zm4 0h-2V7h2v10zm4 0h-2v-4h2v4z\"/>\n",
              "    </g>\n",
              "</svg>\n",
              "  </button>\n",
              "\n",
              "<style>\n",
              "  .colab-df-quickchart {\n",
              "      --bg-color: #E8F0FE;\n",
              "      --fill-color: #1967D2;\n",
              "      --hover-bg-color: #E2EBFA;\n",
              "      --hover-fill-color: #174EA6;\n",
              "      --disabled-fill-color: #AAA;\n",
              "      --disabled-bg-color: #DDD;\n",
              "  }\n",
              "\n",
              "  [theme=dark] .colab-df-quickchart {\n",
              "      --bg-color: #3B4455;\n",
              "      --fill-color: #D2E3FC;\n",
              "      --hover-bg-color: #434B5C;\n",
              "      --hover-fill-color: #FFFFFF;\n",
              "      --disabled-bg-color: #3B4455;\n",
              "      --disabled-fill-color: #666;\n",
              "  }\n",
              "\n",
              "  .colab-df-quickchart {\n",
              "    background-color: var(--bg-color);\n",
              "    border: none;\n",
              "    border-radius: 50%;\n",
              "    cursor: pointer;\n",
              "    display: none;\n",
              "    fill: var(--fill-color);\n",
              "    height: 32px;\n",
              "    padding: 0;\n",
              "    width: 32px;\n",
              "  }\n",
              "\n",
              "  .colab-df-quickchart:hover {\n",
              "    background-color: var(--hover-bg-color);\n",
              "    box-shadow: 0 1px 2px rgba(60, 64, 67, 0.3), 0 1px 3px 1px rgba(60, 64, 67, 0.15);\n",
              "    fill: var(--button-hover-fill-color);\n",
              "  }\n",
              "\n",
              "  .colab-df-quickchart-complete:disabled,\n",
              "  .colab-df-quickchart-complete:disabled:hover {\n",
              "    background-color: var(--disabled-bg-color);\n",
              "    fill: var(--disabled-fill-color);\n",
              "    box-shadow: none;\n",
              "  }\n",
              "\n",
              "  .colab-df-spinner {\n",
              "    border: 2px solid var(--fill-color);\n",
              "    border-color: transparent;\n",
              "    border-bottom-color: var(--fill-color);\n",
              "    animation:\n",
              "      spin 1s steps(1) infinite;\n",
              "  }\n",
              "\n",
              "  @keyframes spin {\n",
              "    0% {\n",
              "      border-color: transparent;\n",
              "      border-bottom-color: var(--fill-color);\n",
              "      border-left-color: var(--fill-color);\n",
              "    }\n",
              "    20% {\n",
              "      border-color: transparent;\n",
              "      border-left-color: var(--fill-color);\n",
              "      border-top-color: var(--fill-color);\n",
              "    }\n",
              "    30% {\n",
              "      border-color: transparent;\n",
              "      border-left-color: var(--fill-color);\n",
              "      border-top-color: var(--fill-color);\n",
              "      border-right-color: var(--fill-color);\n",
              "    }\n",
              "    40% {\n",
              "      border-color: transparent;\n",
              "      border-right-color: var(--fill-color);\n",
              "      border-top-color: var(--fill-color);\n",
              "    }\n",
              "    60% {\n",
              "      border-color: transparent;\n",
              "      border-right-color: var(--fill-color);\n",
              "    }\n",
              "    80% {\n",
              "      border-color: transparent;\n",
              "      border-right-color: var(--fill-color);\n",
              "      border-bottom-color: var(--fill-color);\n",
              "    }\n",
              "    90% {\n",
              "      border-color: transparent;\n",
              "      border-bottom-color: var(--fill-color);\n",
              "    }\n",
              "  }\n",
              "</style>\n",
              "\n",
              "  <script>\n",
              "    async function quickchart(key) {\n",
              "      const quickchartButtonEl =\n",
              "        document.querySelector('#' + key + ' button');\n",
              "      quickchartButtonEl.disabled = true;  // To prevent multiple clicks.\n",
              "      quickchartButtonEl.classList.add('colab-df-spinner');\n",
              "      try {\n",
              "        const charts = await google.colab.kernel.invokeFunction(\n",
              "            'suggestCharts', [key], {});\n",
              "      } catch (error) {\n",
              "        console.error('Error during call to suggestCharts:', error);\n",
              "      }\n",
              "      quickchartButtonEl.classList.remove('colab-df-spinner');\n",
              "      quickchartButtonEl.classList.add('colab-df-quickchart-complete');\n",
              "    }\n",
              "    (() => {\n",
              "      let quickchartButtonEl =\n",
              "        document.querySelector('#df-bcef7bd2-f172-4fee-9fc2-917ce2e8d2bf button');\n",
              "      quickchartButtonEl.style.display =\n",
              "        google.colab.kernel.accessAllowed ? 'block' : 'none';\n",
              "    })();\n",
              "  </script>\n",
              "</div>\n",
              "\n",
              "    </div>\n",
              "  </div>\n"
            ],
            "application/vnd.google.colaboratory.intrinsic+json": {
              "type": "dataframe",
              "summary": "{\n  \"name\": \"weight_df\",\n  \"rows\": 8,\n  \"fields\": [\n    {\n      \"column\": \"weight_before\",\n      \"properties\": {\n        \"dtype\": \"number\",\n        \"std\": 96.04633237649318,\n        \"min\": 28.13253901086154,\n        \"max\": 314.70023277420336,\n        \"num_unique_values\": 8,\n        \"samples\": [\n          250.34554624076455,\n          250.83080548077763,\n          100.0\n        ],\n        \"semantic_type\": \"\",\n        \"description\": \"\"\n      }\n    },\n    {\n      \"column\": \"weight_after\",\n      \"properties\": {\n        \"dtype\": \"number\",\n        \"std\": 96.24450267138931,\n        \"min\": 28.422182609472326,\n        \"max\": 316.7203571847062,\n        \"num_unique_values\": 8,\n        \"samples\": [\n          249.1151712349685,\n          251.13408870630536,\n          100.0\n        ],\n        \"semantic_type\": \"\",\n        \"description\": \"\"\n      }\n    },\n    {\n      \"column\": \"weight_change\",\n      \"properties\": {\n        \"dtype\": \"number\",\n        \"std\": 35.99665570625548,\n        \"min\": -11.49528630234596,\n        \"max\": 100.0,\n        \"num_unique_values\": 8,\n        \"samples\": [\n          -1.2303750057960445,\n          -1.4134631066591794,\n          100.0\n        ],\n        \"semantic_type\": \"\",\n        \"description\": \"\"\n      }\n    }\n  ]\n}"
            }
          },
          "metadata": {},
          "execution_count": 16
        }
      ]
    },
    {
      "cell_type": "code",
      "source": [
        "print(before.mean())\n",
        "print(after.mean())\n",
        "print(after.mean()-before.mean())"
      ],
      "metadata": {
        "colab": {
          "base_uri": "https://localhost:8080/"
        },
        "id": "7v4004vQYZdl",
        "outputId": "edc3e81a-a550-4bfc-f330-0d0e6dabbcb4"
      },
      "execution_count": null,
      "outputs": [
        {
          "output_type": "stream",
          "name": "stdout",
          "text": [
            "250.34554624076455\n",
            "249.1151712349685\n",
            "-1.2303750057960485\n"
          ]
        }
      ]
    },
    {
      "cell_type": "code",
      "source": [
        "#paired t_test\n",
        "\n",
        "stats.ttest_rel(a=before , b=after)"
      ],
      "metadata": {
        "colab": {
          "base_uri": "https://localhost:8080/"
        },
        "id": "ClhAeHxiX36u",
        "outputId": "2ad7642f-766f-4de8-c0ff-9773ee0418d2"
      },
      "execution_count": null,
      "outputs": [
        {
          "output_type": "execute_result",
          "data": {
            "text/plain": [
              "TtestResult(statistic=2.5720175998568284, pvalue=0.011596444318439857, df=99)"
            ]
          },
          "metadata": {},
          "execution_count": 18
        }
      ]
    },
    {
      "cell_type": "code",
      "source": [],
      "metadata": {
        "id": "eOvKsONYYOBf"
      },
      "execution_count": null,
      "outputs": []
    }
  ],
  "metadata": {
    "accelerator": "GPU",
    "colab": {
      "gpuType": "T4",
      "provenance": [],
      "authorship_tag": "ABX9TyPRsBHYJNvFyd/qHmIjNErJ",
      "include_colab_link": true
    },
    "kernelspec": {
      "display_name": "Python 3",
      "name": "python3"
    },
    "language_info": {
      "name": "python"
    }
  },
  "nbformat": 4,
  "nbformat_minor": 0
}